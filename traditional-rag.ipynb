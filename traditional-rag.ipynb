{
 "cells": [
  {
   "cell_type": "code",
   "execution_count": null,
   "id": "c2c5b416-0010-4f15-bf07-849106c20b3f",
   "metadata": {},
   "outputs": [],
   "source": [
    "!wget https://sgp.fas.org/crs/misc/IF10244.pdf"
   ]
  },
  {
   "cell_type": "code",
   "execution_count": null,
   "id": "c419494b-bcc5-46b3-b5f7-5e365f598ee5",
   "metadata": {},
   "outputs": [],
   "source": [
    "###################################\n",
    "########### INGESTION #############\n",
    "###################################"
   ]
  },
  {
   "cell_type": "code",
   "execution_count": null,
   "id": "69efba52-79ae-4210-97c7-a578f370eb49",
   "metadata": {},
   "outputs": [],
   "source": [
    "from langchain_community.document_loaders import UnstructuredPDFLoader\n",
    "from unstructured.partition.utils.constants import PartitionStrategy\n",
    "\n",
    "\n",
    "loader = UnstructuredPDFLoader(\n",
    "    file_path=\"./IF10244.pdf\",\n",
    "    strategy=PartitionStrategy.HI_RES,\n",
    "    infer_table_structure=True,\n",
    "    extract_images_in_pdf=True,\n",
    "    chunking_strategy=\"by_title\",\n",
    "    new_after_n_chars=4000,  # Soft-max\n",
    "    max_characters=4000,  # Hard-max\n",
    "    combine_text_under_n_chars=2000,  # Combine chunks of < 200 chars\n",
    "    mode='elements',  # Split the documents into elements such as Title and NarrativeText.\n",
    ")\n",
    "data = loader.load()"
   ]
  },
  {
   "cell_type": "code",
   "execution_count": null,
   "id": "60e7536b-d0f8-4f2a-b7b3-3eb7ccf6ac2c",
   "metadata": {},
   "outputs": [],
   "source": [
    "len(data)"
   ]
  },
  {
   "cell_type": "code",
   "execution_count": null,
   "id": "8e3f31f0-5c07-4549-a616-680e226017bf",
   "metadata": {},
   "outputs": [],
   "source": [
    "data[0]"
   ]
  },
  {
   "cell_type": "code",
   "execution_count": null,
   "id": "b8b12013-7e9e-4c33-989e-b0ad343ed8ff",
   "metadata": {},
   "outputs": [],
   "source": [
    "[doc.metadata['category'] for doc in data]"
   ]
  },
  {
   "cell_type": "code",
   "execution_count": null,
   "id": "3f0c7195-d88c-429f-b24b-27f73630632a",
   "metadata": {},
   "outputs": [],
   "source": [
    "data[2].page_content  # Table"
   ]
  },
  {
   "cell_type": "code",
   "execution_count": null,
   "id": "9246c45f-599a-40cf-80c8-9819f0f21fcd",
   "metadata": {},
   "outputs": [],
   "source": [
    "###################################\n",
    "########### RETRIEVER #############\n",
    "###################################"
   ]
  },
  {
   "cell_type": "code",
   "execution_count": null,
   "id": "a0be1258-7372-49f9-a493-c4004e1781c4",
   "metadata": {},
   "outputs": [],
   "source": [
    "from getpass import getpass\n",
    "\n",
    "OPENAI_API_KEY = getpass('Enter OpenAI Key: ')"
   ]
  },
  {
   "cell_type": "code",
   "execution_count": null,
   "id": "e06e3412-d6cd-4f9d-b6c6-623968cc35f7",
   "metadata": {},
   "outputs": [],
   "source": [
    "from langchain_openai import OpenAIEmbeddings\n",
    "\n",
    "\n",
    "OPENAI_EMBEDDING_MODEL = OpenAIEmbeddings(model='text-embedding-ada-002', api_key=OPENAI_API_KEY)"
   ]
  },
  {
   "cell_type": "code",
   "execution_count": null,
   "id": "b02762a2-4de2-4403-8997-a41da4585a61",
   "metadata": {},
   "outputs": [],
   "source": [
    "from langchain_chroma import Chroma\n",
    "\n",
    "vectorstore = Chroma(\n",
    "    collection_name='OSM-21-Oct-2024-tradition',\n",
    "    embedding_function=OPENAI_EMBEDDING_MODEL,\n",
    "    collection_metadata={\"hnsw:space\": \"cosine\"},\n",
    ")"
   ]
  },
  {
   "cell_type": "code",
   "execution_count": null,
   "id": "d06a5733-97fd-492a-84a6-4b212a21d5b4",
   "metadata": {},
   "outputs": [],
   "source": [
    "retriever = vectorstore.as_retriever()"
   ]
  },
  {
   "cell_type": "code",
   "execution_count": null,
   "id": "f02ff25a-8db0-4acf-a193-49b510340096",
   "metadata": {},
   "outputs": [],
   "source": [
    "from langchain.vectorstores.utils import filter_complex_metadata\n",
    "\n",
    "# Filter complex metadata\n",
    "data = filter_complex_metadata(data)\n",
    "retriever.vectorstore.add_documents(data)"
   ]
  },
  {
   "cell_type": "code",
   "execution_count": null,
   "id": "c5047661-913e-42c7-b75a-0e5de4a02e15",
   "metadata": {},
   "outputs": [],
   "source": [
    "vectorstore.get(include=[\"metadatas\", \"documents\", \"embeddings\"])"
   ]
  },
  {
   "cell_type": "code",
   "execution_count": null,
   "id": "29c65eb5-75ad-4310-8d90-32a14de6b136",
   "metadata": {},
   "outputs": [],
   "source": [
    "vectorstore._collection.count()"
   ]
  },
  {
   "cell_type": "code",
   "execution_count": null,
   "id": "4c3c44ab-ec60-406e-bf37-7f81beee4a2f",
   "metadata": {},
   "outputs": [],
   "source": [
    "query = \"Which year has the highest acres burned?\"\n",
    "docs = retriever.invoke(query, limit=5)"
   ]
  },
  {
   "cell_type": "code",
   "execution_count": null,
   "id": "d8b2728e-68f1-40b3-8e60-42e4ecbed8c9",
   "metadata": {},
   "outputs": [],
   "source": [
    "[doc.page_content for doc in data]"
   ]
  },
  {
   "cell_type": "code",
   "execution_count": null,
   "id": "27120a3a-5903-482d-b084-39998042c2d5",
   "metadata": {},
   "outputs": [],
   "source": [
    "###################################\n",
    "########### Synthesis #############\n",
    "###################################"
   ]
  },
  {
   "cell_type": "code",
   "execution_count": null,
   "id": "b8a685e2-fe19-4660-9960-f5bfa8b95a25",
   "metadata": {},
   "outputs": [],
   "source": [
    "from langchain_openai import ChatOpenAI\n",
    "\n",
    "CHAT_MODEL = ChatOpenAI(model_name='gpt-4o-mini', api_key=OPENAI_API_KEY, temperature=0)"
   ]
  },
  {
   "cell_type": "code",
   "execution_count": null,
   "id": "8c01f6a6-0950-44f7-a475-44fdae7cf29c",
   "metadata": {},
   "outputs": [],
   "source": [
    "from langchain_core.prompts import ChatPromptTemplate\n",
    "from langchain_core.runnables import RunnablePassthrough\n",
    "from langchain_core.output_parsers import StrOutputParser\n",
    "\n",
    "\n",
    "RAG_TEMPLATE = \"\"\"\n",
    "You are an assistant for question-answering tasks. Use the following pieces of retrieved context \n",
    "to answer the question. If you don't know the answer, just say that you don't know.\n",
    "\n",
    "<context>\n",
    "{context}\n",
    "</context>\n",
    "\n",
    "Answer the following question:\n",
    "\n",
    "{question}\"\"\"\n",
    "\n",
    "rag_prompt = ChatPromptTemplate.from_template(RAG_TEMPLATE)\n",
    "\n",
    "def format_docs(docs):\n",
    "    return \"\\n\\n\".join(doc.page_content for doc in docs)\n",
    "\n",
    "\n",
    "rag_chain = (\n",
    "    {\"context\": retriever | format_docs, \"question\": RunnablePassthrough()}\n",
    "    | prompt\n",
    "    | CHAT_MODEL\n",
    "    | StrOutputParser()\n",
    ")"
   ]
  },
  {
   "cell_type": "code",
   "execution_count": null,
   "id": "2e8f1da3-a37b-4209-aee1-03664b886336",
   "metadata": {},
   "outputs": [],
   "source": [
    "query = \"Which year has the highest acres burned?\"\n",
    "response = rag_chain.invoke(query)"
   ]
  },
  {
   "cell_type": "code",
   "execution_count": null,
   "id": "0142a96d-4efa-4621-bb03-33f58c91b4af",
   "metadata": {},
   "outputs": [],
   "source": [
    "response"
   ]
  },
  {
   "cell_type": "code",
   "execution_count": null,
   "id": "160f6678-1526-4a15-b4ec-6bffb2600fe3",
   "metadata": {},
   "outputs": [],
   "source": [
    "# Incorrect response. Correct answer - 4.1 million acres\n",
    "\n",
    "query = query = \"Tell me about the number of acres burned by wildfires for the forest service in 2021\"\n",
    "response = rag_chain.invoke(query)"
   ]
  },
  {
   "cell_type": "code",
   "execution_count": null,
   "id": "13e5613c-a2eb-4b50-9272-5b0e01a22ddf",
   "metadata": {},
   "outputs": [],
   "source": [
    "response"
   ]
  },
  {
   "cell_type": "code",
   "execution_count": null,
   "id": "7e7e3cc9-2903-40ae-b43d-4324c84c4dde",
   "metadata": {},
   "outputs": [],
   "source": []
  }
 ],
 "metadata": {
  "kernelspec": {
   "display_name": "Python 3 (ipykernel)",
   "language": "python",
   "name": "python3"
  },
  "language_info": {
   "codemirror_mode": {
    "name": "ipython",
    "version": 3
   },
   "file_extension": ".py",
   "mimetype": "text/x-python",
   "name": "python",
   "nbconvert_exporter": "python",
   "pygments_lexer": "ipython3",
   "version": "3.12.7"
  }
 },
 "nbformat": 4,
 "nbformat_minor": 5
}
