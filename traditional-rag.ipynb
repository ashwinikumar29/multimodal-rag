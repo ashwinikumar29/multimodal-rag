{
 "cells": [
  {
   "cell_type": "code",
   "execution_count": 1,
   "id": "c2c5b416-0010-4f15-bf07-849106c20b3f",
   "metadata": {},
   "outputs": [
    {
     "name": "stdout",
     "output_type": "stream",
     "text": [
      "--2024-10-23 00:02:25--  https://sgp.fas.org/crs/misc/IF10244.pdf\n",
      "Resolving sgp.fas.org (sgp.fas.org)... 65.9.112.71, 65.9.112.81, 65.9.112.124, ...\n",
      "Connecting to sgp.fas.org (sgp.fas.org)|65.9.112.71|:443... connected.\n",
      "HTTP request sent, awaiting response... 200 OK\n",
      "Length: 435826 (426K) [application/pdf]\n",
      "Saving to: ‘IF10244.pdf.1’\n",
      "\n",
      "IF10244.pdf.1       100%[===================>] 425.61K   688KB/s    in 0.6s    \n",
      "\n",
      "2024-10-23 00:02:26 (688 KB/s) - ‘IF10244.pdf.1’ saved [435826/435826]\n",
      "\n"
     ]
    }
   ],
   "source": [
    "!wget https://sgp.fas.org/crs/misc/IF10244.pdf"
   ]
  },
  {
   "cell_type": "code",
   "execution_count": 2,
   "id": "c419494b-bcc5-46b3-b5f7-5e365f598ee5",
   "metadata": {},
   "outputs": [],
   "source": [
    "###################################\n",
    "########### INGESTION #############\n",
    "###################################"
   ]
  },
  {
   "cell_type": "code",
   "execution_count": 2,
   "id": "69efba52-79ae-4210-97c7-a578f370eb49",
   "metadata": {},
   "outputs": [
    {
     "name": "stderr",
     "output_type": "stream",
     "text": [
      "Some weights of the model checkpoint at microsoft/table-transformer-structure-recognition were not used when initializing TableTransformerForObjectDetection: ['model.backbone.conv_encoder.model.layer2.0.downsample.1.num_batches_tracked', 'model.backbone.conv_encoder.model.layer3.0.downsample.1.num_batches_tracked', 'model.backbone.conv_encoder.model.layer4.0.downsample.1.num_batches_tracked']\n",
      "- This IS expected if you are initializing TableTransformerForObjectDetection from the checkpoint of a model trained on another task or with another architecture (e.g. initializing a BertForSequenceClassification model from a BertForPreTraining model).\n",
      "- This IS NOT expected if you are initializing TableTransformerForObjectDetection from the checkpoint of a model that you expect to be exactly identical (initializing a BertForSequenceClassification model from a BertForSequenceClassification model).\n"
     ]
    }
   ],
   "source": [
    "from langchain_community.document_loaders import UnstructuredPDFLoader\n",
    "from unstructured.partition.utils.constants import PartitionStrategy\n",
    "\n",
    "\n",
    "loader = UnstructuredPDFLoader(\n",
    "    file_path=\"./IF10244.pdf\",\n",
    "    strategy=PartitionStrategy.HI_RES,\n",
    "    infer_table_structure=True,\n",
    "    extract_images_in_pdf=True,\n",
    "    chunking_strategy=\"by_title\",\n",
    "    new_after_n_chars=4000,  # Soft-max\n",
    "    max_characters=4000,  # Hard-max\n",
    "    combine_text_under_n_chars=2000,  # Combine chunks of < 200 chars\n",
    "    mode='elements',  # Split the documents into elements such as Title and NarrativeText.\n",
    ")\n",
    "data = loader.load()"
   ]
  },
  {
   "cell_type": "code",
   "execution_count": 3,
   "id": "60e7536b-d0f8-4f2a-b7b3-3eb7ccf6ac2c",
   "metadata": {},
   "outputs": [
    {
     "data": {
      "text/plain": [
       "7"
      ]
     },
     "execution_count": 3,
     "metadata": {},
     "output_type": "execute_result"
    }
   ],
   "source": [
    "len(data)"
   ]
  },
  {
   "cell_type": "code",
   "execution_count": 4,
   "id": "8e3f31f0-5c07-4549-a616-680e226017bf",
   "metadata": {},
   "outputs": [
    {
     "data": {
      "text/plain": [
       "Document(page_content='= Informing the legislative debate since 1914 Congressional Research Service\\n\\nUpdated June 1, 2023\\n\\nWildfire Statistics\\n\\nWildfires are unplanned fires, including lightning-caused fires, unauthorized human-caused fires, and escaped fires from prescribed burn projects. States are responsible for responding to wildfires that begin on nonfederal (state, local, and private) lands, except for lands protected by federal agencies under cooperative agreements. The federal government is responsible for responding to wildfires that begin on federal lands. The Forest Service (FS)—within the U.S. Department of Agriculture—carries out wildfire management and response across the 193 million acres of the National Forest System (NFS). The Department of the Interior (DOI) manages wildfire response for more than 400 million acres of national parks, wildlife refuges and preserves, other public lands, and Indian reservations.\\n\\nFigure 1. Annual Wildfires and Acres Burned, 1993-2022\\n\\nFires, thousands Acres burned, millions 120 12 100 Fires 10 80 oN FD\\n\\nWildfire statistics help illustrate past U.S. wildfire activity. Nationwide data compiled by the National Interagency Coordination Center (NICC) indicate that the number of annual wildfires is variable but has decreased slightly over the last 30 years. The number of acres affected annually, while also variable, generally has increased (see Figure 1). Since 2000, an annual average of 70,025 wildfires have burned an annual average of 7.0 million acres. The acreage figure is more than double the average annual acreage burned in the 1990s (3.3 million acres), although a greater number of fires occurred annually in the 1990s on average (78,600).\\n\\nSource: NICC Wildland Fire Summary and Statistics annual reports. Note: Data reflect wildland fires and acres burned nationwide, including wildland fires on federal and nonfederal lands.\\n\\nFrom 2013 to 2022, there were an average of 61,410 wildfires annually and an average of 7.2 million acres impacted annually. In 2022, 68,988 wildfires burned 7.6 million acres. Over 40% of those acres were in Alaska (3.1 million acres).\\n\\nAs of June 1, 2023, around 18,300 wildfires have impacted over 511,000 acres this year.', metadata={'source': './IF10244.pdf', 'filetype': 'application/pdf', 'languages': ['eng'], 'last_modified': '2024-04-10T06:57:48', 'page_number': 1, 'orig_elements': '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', 'file_directory': '.', 'filename': 'IF10244.pdf', 'category': 'CompositeElement'})"
      ]
     },
     "execution_count": 4,
     "metadata": {},
     "output_type": "execute_result"
    }
   ],
   "source": [
    "data[0]"
   ]
  },
  {
   "cell_type": "code",
   "execution_count": 5,
   "id": "b8b12013-7e9e-4c33-989e-b0ad343ed8ff",
   "metadata": {},
   "outputs": [
    {
     "data": {
      "text/plain": [
       "['CompositeElement',\n",
       " 'CompositeElement',\n",
       " 'Table',\n",
       " 'CompositeElement',\n",
       " 'CompositeElement',\n",
       " 'Table',\n",
       " 'CompositeElement']"
      ]
     },
     "execution_count": 5,
     "metadata": {},
     "output_type": "execute_result"
    }
   ],
   "source": [
    "[doc.metadata['category'] for doc in data]"
   ]
  },
  {
   "cell_type": "code",
   "execution_count": 6,
   "id": "3f0c7195-d88c-429f-b24b-27f73630632a",
   "metadata": {},
   "outputs": [
    {
     "data": {
      "text/plain": [
       "'2018 2019 2020 Number of Fires (thousands) Federal 12.5 10.9 14.4 FS 5.6 5.3 6.7 DOI 7.0 5.3 7.6 2021 14.0 6.2 7.6 2022 11.7 5.9 5.8 Other 0.1 0.2 <0.1 0.2 0.1 Nonfederal 45.6 39.6 44.6 45.0 57.2 Total 58.1 50.5 59.0 59.0 69.0 Acres Burned (millions) Federal 4.6 3.1 7.1 5.2 4.0 FS 2.3 0.6 4.8 4.1 1.9 DOI 2.3 2.3 2.3 1.0 2.1 Other <0.1 <0.1 <0.1 <0.1 <0.1 Nonfederal 4.1 1.6 3.1 1.9 3.6 Total 8.8 4.7 10.1 7.1 7.6'"
      ]
     },
     "execution_count": 6,
     "metadata": {},
     "output_type": "execute_result"
    }
   ],
   "source": [
    "data[2].page_content  # Table"
   ]
  },
  {
   "cell_type": "code",
   "execution_count": 7,
   "id": "9246c45f-599a-40cf-80c8-9819f0f21fcd",
   "metadata": {},
   "outputs": [],
   "source": [
    "###################################\n",
    "########### RETRIEVER #############\n",
    "###################################"
   ]
  },
  {
   "cell_type": "code",
   "execution_count": 13,
   "id": "a0be1258-7372-49f9-a493-c4004e1781c4",
   "metadata": {},
   "outputs": [
    {
     "name": "stdin",
     "output_type": "stream",
     "text": [
      "Enter OpenAI Key:  ········\n"
     ]
    }
   ],
   "source": [
    "from getpass import getpass\n",
    "\n",
    "OPENAI_API_KEY = getpass('Enter OpenAI Key: ')"
   ]
  },
  {
   "cell_type": "code",
   "execution_count": 14,
   "id": "e06e3412-d6cd-4f9d-b6c6-623968cc35f7",
   "metadata": {},
   "outputs": [],
   "source": [
    "from langchain_openai import OpenAIEmbeddings\n",
    "\n",
    "\n",
    "OPENAI_EMBEDDING_MODEL = OpenAIEmbeddings(model='text-embedding-ada-002', api_key=OPENAI_API_KEY)"
   ]
  },
  {
   "cell_type": "code",
   "execution_count": null,
   "id": "cbd35e11-d77f-4e1e-a6a3-afc77c2b6d8d",
   "metadata": {},
   "outputs": [],
   "source": []
  },
  {
   "cell_type": "code",
   "execution_count": 15,
   "id": "b02762a2-4de2-4403-8997-a41da4585a61",
   "metadata": {},
   "outputs": [],
   "source": [
    "from langchain_chroma import Chroma\n",
    "\n",
    "vectorstore = Chroma(\n",
    "    collection_name='OSM-21-Oct-2024-tradition',\n",
    "    embedding_function=OPENAI_EMBEDDING_MODEL,\n",
    "    collection_metadata={\"hnsw:space\": \"cosine\"},\n",
    ")"
   ]
  },
  {
   "cell_type": "code",
   "execution_count": 16,
   "id": "d06a5733-97fd-492a-84a6-4b212a21d5b4",
   "metadata": {},
   "outputs": [],
   "source": [
    "retriever = vectorstore.as_retriever()"
   ]
  },
  {
   "cell_type": "code",
   "execution_count": 17,
   "id": "f02ff25a-8db0-4acf-a193-49b510340096",
   "metadata": {},
   "outputs": [
    {
     "data": {
      "text/plain": [
       "['a18bd38a-7097-4168-a9e7-0b294d037b53',\n",
       " '37bbd45a-6825-4de0-9156-7251e3374724',\n",
       " 'a95358ec-7696-457d-acd5-b73028fcedab',\n",
       " '046c4463-ea4b-4f45-960d-2d96b59a95f6',\n",
       " '82258716-360b-4fae-a194-a90875599f7a',\n",
       " 'c76d09b3-5b88-4818-b846-36f9153d5e81',\n",
       " 'b3f15895-ca37-444c-8b5e-f2252dfd38bf']"
      ]
     },
     "execution_count": 17,
     "metadata": {},
     "output_type": "execute_result"
    }
   ],
   "source": [
    "from langchain.vectorstores.utils import filter_complex_metadata\n",
    "\n",
    "# Filter complex metadata\n",
    "data = filter_complex_metadata(data)\n",
    "retriever.vectorstore.add_documents(data)"
   ]
  },
  {
   "cell_type": "code",
   "execution_count": 18,
   "id": "c5047661-913e-42c7-b75a-0e5de4a02e15",
   "metadata": {},
   "outputs": [
    {
     "data": {
      "text/plain": [
       "{'ids': ['a18bd38a-7097-4168-a9e7-0b294d037b53',\n",
       "  '37bbd45a-6825-4de0-9156-7251e3374724',\n",
       "  'a95358ec-7696-457d-acd5-b73028fcedab',\n",
       "  '046c4463-ea4b-4f45-960d-2d96b59a95f6',\n",
       "  '82258716-360b-4fae-a194-a90875599f7a',\n",
       "  'c76d09b3-5b88-4818-b846-36f9153d5e81',\n",
       "  'b3f15895-ca37-444c-8b5e-f2252dfd38bf'],\n",
       " 'embeddings': array([[-0.00673014, -0.01467681, -0.00481378, ...,  0.00020643,\n",
       "         -0.0054384 , -0.04871341],\n",
       "        [-0.00888838, -0.02641155,  0.00992871, ...,  0.01312775,\n",
       "         -0.02176905, -0.03344683],\n",
       "        [-0.01428289, -0.02292607, -0.00621024, ...,  0.00606269,\n",
       "          0.00284117, -0.02788377],\n",
       "        ...,\n",
       "        [-0.00293701, -0.01478987, -0.00015226, ...,  0.00107496,\n",
       "         -0.00784089, -0.03967039],\n",
       "        [ 0.00454781, -0.01484307, -0.00538824, ..., -0.01603593,\n",
       "         -0.01684925, -0.02789683],\n",
       "        [-0.0055647 , -0.00070016,  0.00095794, ...,  0.00303182,\n",
       "         -0.01367726, -0.03927556]]),\n",
       " 'documents': ['= Informing the legislative debate since 1914 Congressional Research Service\\n\\nUpdated June 1, 2023\\n\\nWildfire Statistics\\n\\nWildfires are unplanned fires, including lightning-caused fires, unauthorized human-caused fires, and escaped fires from prescribed burn projects. States are responsible for responding to wildfires that begin on nonfederal (state, local, and private) lands, except for lands protected by federal agencies under cooperative agreements. The federal government is responsible for responding to wildfires that begin on federal lands. The Forest Service (FS)—within the U.S. Department of Agriculture—carries out wildfire management and response across the 193 million acres of the National Forest System (NFS). The Department of the Interior (DOI) manages wildfire response for more than 400 million acres of national parks, wildlife refuges and preserves, other public lands, and Indian reservations.\\n\\nFigure 1. Annual Wildfires and Acres Burned, 1993-2022\\n\\nFires, thousands Acres burned, millions 120 12 100 Fires 10 80 oN FD\\n\\nWildfire statistics help illustrate past U.S. wildfire activity. Nationwide data compiled by the National Interagency Coordination Center (NICC) indicate that the number of annual wildfires is variable but has decreased slightly over the last 30 years. The number of acres affected annually, while also variable, generally has increased (see Figure 1). Since 2000, an annual average of 70,025 wildfires have burned an annual average of 7.0 million acres. The acreage figure is more than double the average annual acreage burned in the 1990s (3.3 million acres), although a greater number of fires occurred annually in the 1990s on average (78,600).\\n\\nSource: NICC Wildland Fire Summary and Statistics annual reports. Note: Data reflect wildland fires and acres burned nationwide, including wildland fires on federal and nonfederal lands.\\n\\nFrom 2013 to 2022, there were an average of 61,410 wildfires annually and an average of 7.2 million acres impacted annually. In 2022, 68,988 wildfires burned 7.6 million acres. Over 40% of those acres were in Alaska (3.1 million acres).\\n\\nAs of June 1, 2023, around 18,300 wildfires have impacted over 511,000 acres this year.',\n",
       "  'Figure 2. Top Five Years with Largest Wildfire Acreage Burned Since 1960\\n\\nTable 1. Annual Wildfires and Acres Burned',\n",
       "  '2018 2019 2020 Number of Fires (thousands) Federal 12.5 10.9 14.4 FS 5.6 5.3 6.7 DOI 7.0 5.3 7.6 2021 14.0 6.2 7.6 2022 11.7 5.9 5.8 Other 0.1 0.2 <0.1 0.2 0.1 Nonfederal 45.6 39.6 44.6 45.0 57.2 Total 58.1 50.5 59.0 59.0 69.0 Acres Burned (millions) Federal 4.6 3.1 7.1 5.2 4.0 FS 2.3 0.6 4.8 4.1 1.9 DOI 2.3 2.3 2.3 1.0 2.1 Other <0.1 <0.1 <0.1 <0.1 <0.1 Nonfederal 4.1 1.6 3.1 1.9 3.6 Total 8.8 4.7 10.1 7.1 7.6',\n",
       "  'Source: National Interagency Coordination Center (NICC)\\n\\nYear Number of Fires Acres burned (millions) 2015 2020 2017 2006 2007\\n\\nSource: NICC Wildland Fire Summary and Statistics annual reports. Note: Number of fires in thousands.\\n\\nThe number of fires and acreage burned are indicators of the annual level of wildfire activity. These numbers may not be indicative of fire’s impact on human development or communities, since many fires occur in large, relatively undeveloped areas. Acreage burned also does not indicate the severity of a wildfire, the degree of impact upon forests or soils, or other ecological effects.\\n\\nMost wildfires are human-caused (89% of the average number of wildfires from 2018 to 2022). Wildfires caused by lightning tend to be slightly larger and to burn more acreage (53% of the average acreage burned from 2018 to 2022) than human-caused fires.\\n\\nWildland Fire Summary and Statistics annual reports.\\n\\nNotes: FS = Forest Service; DOI = Department of the Interior. Column totals may not sum precisely due to rounding.\\n\\nhttps://crsreports.congress.gov\\n\\nWildfire Statistics\\n\\nIn 2022, 52% of the nationwide acreage burned by wildfires was on federal lands (4.0 million acres; see Table 1), lower than the 10-year average (64%) of impacted federal land acreage. The other 48% of the acreage burned in 2022 was on state, local, or privately owned lands, though the fires on these lands accounted for 83% of total fires. Of the federal acreage burned nationwide in 2022, 52% (2.1 million acres) burned on DOI land and 47% (1.9 million acres) burned on FS land (see Figure 3). The 2022 figures are driven largely by Alaska, where just over half of the acreage impacted occurred on nonfederal lands (1.6 million acres) and just under half was on DOI lands (1.5 million acres).\\n\\nResources\\n\\nAnother metric useful for assessing wildfire activity is the extent to which nationwide resources—including personnel and equipment—are engaged in wildfire suppression. A proxy for resource commitments is the nationwide Preparedness Level (PL) scale, which ranges from 1 (lowest) to 5 (highest). The higher PLs indicate significant commitment of shared resources. In 2022, the nationwide level was 4 for 10 days and never reached the highest level (5). In contrast, the highest level was reached for 68 days in 2021, the longest since at least 2000.',\n",
       "  'Wildfire Damages\\n\\nFigure 3. Percentage Acreage Burned by Ownership\\n\\n100% __ Non- federal 75% Other [ federal 50% DOI 25% Forest 0% Service 2018 2019 2020 2021 2022\\n\\nWildfires may affect certain ecological resources beneficially, but wildfires also may have devastating impacts, especially for communities affected by wildfire activity. Statistics showing the level of destruction a wildfire caused can provide useful metrics to evaluate the fire’s effect. Such statistics may include acres burned or impacted, lives lost (firefighters and civilians), and structures (residential, commercial, and other) destroyed. For example, in 2022, over 2,700 structures were burned in wildfires; the majority of the damage occurred in California (see Table 2).\\n\\nTable 2. Loss Statistics\\n\\nSource: NICC Wildland Fire Summary and Statistics annual reports. Note: DOI = Department of the Interior.\\n\\nMore wildfires occur in the East (including the central states), but the wildfires in the West (i.e., Alaska, Arizona, California, Colorado, Idaho, Montana, New Mexico, Nevada, Oregon, Utah, Washington, and Wyoming) are larger and burn more acreage. In 2022, just over 20,000 wildfires burned approximately 5.8 million acres in the West, compared with the over 48,000 fires that burned just over 1.8 million acres in the East. In the East (where there is less federal acreage), most of the fires occur on nonfederal lands; in the West, most of the fires occur on federal lands (see Figure 4). In 2022, 85% (1.5 million acres) of the acreage burned in the East was on nonfederal land, whereas 64% (3.7 million acres) of the acreage burned in the West was on federal land.\\n\\nFigure 4. Acreage Burned by Region and Ownership\\n\\nAcres burned, millions 12 East Nonfederal 10 East Federal West Nonfederal West Federal oN FD Ww 2018 2019 2020 2021 2022',\n",
       "  '2019 2020 2021 2022 Structures Burned 963 17,904 5,972 2,717 % Residences 46% 54% 60% 46%',\n",
       "  'Source: NICC Wildland Fire Summary and Statistics annual reports.\\n\\nConflagrations\\n\\nOf the 1.6 million wildfires that have occurred since 2000, 254 exceeded 100,000 acres burned and 16 exceeded 500,000 acres burned. A small fraction of wildfires become catastrophic, and a small percentage of fires accounts for the vast majority of acres burned. For example, about 1% of wildfires become conflagrations—raging, destructive fires—but predicting which fires will “blow up” into conflagrations is challenging and depends on a multitude of factors, such as weather and geography. There have been 1,041 large or significant fires annually on average from 2018 through 2022. In 2022, 2% of wildfires were classified as large or significant (1,289); 45 exceeded 40,000 acres in size, and 17 exceeded 100,000 acres. For context, there were fewer large or significant wildfires in 2021 (943) but more in 2017 (1,409).\\n\\nIssues for Congress\\n\\nIssues Congress may consider include the strategies and resources used for wildfire prevention, mitigation, and management, as well as wildfires’ impact on both the quality of life and the economies of communities affected by wildfire activity. Other issues relate to post-wildfire recovery and site restoration. Congress also considers the total federal cost of wildfire management, including the cost of suppression operations; these costs vary annually and are difficult to predict.\\n\\nSource: NICC Wildland Fire Summary and Statistics annual reports. Notes: West: AK, AZ, CA, CO, ID, HI, MT, NM, NV, OR, UT, WA, and WY. East: All other states and Puerto Rico.\\n\\nKatie Hoover, Specialist in Natural Resources Policy Laura A. Hanson, Senior Research Librarian\\n\\nIF10244\\n\\nhttps://crsreports.congress.gov\\n\\nWildfire Statistics\\n\\nDisclaimer\\n\\nThis document was prepared by the Congressional Research Service (CRS). CRS serves as nonpartisan shared staff to congressional committees and Members of Congress. It operates solely at the behest of and under the direction of Congress. Information in a CRS Report should not be relied upon for purposes other than public understanding of information that has been provided by CRS to Members of Congress in connection with CRS’s institutional role. CRS Reports, as a work of the United States Government, are not subject to copyright protection in the United States. Any CRS Report may be reproduced and distributed in its entirety without permission from CRS. However, as a CRS Report may include copyrighted images or material from a third party, you may need to obtain the permission of the copyright holder if you wish to copy or otherwise use copyrighted material.\\n\\nhttps://crsreports.congress.gov | IF10244 · VERSION 68 · UPDATED'],\n",
       " 'uris': None,\n",
       " 'data': None,\n",
       " 'metadatas': [{'category': 'CompositeElement',\n",
       "   'file_directory': '.',\n",
       "   'filename': 'IF10244.pdf',\n",
       "   'filetype': 'application/pdf',\n",
       "   'last_modified': '2024-04-10T06:57:48',\n",
       "   'orig_elements': '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',\n",
       "   'page_number': 1,\n",
       "   'source': './IF10244.pdf'},\n",
       "  {'category': 'CompositeElement',\n",
       "   'file_directory': '.',\n",
       "   'filename': 'IF10244.pdf',\n",
       "   'filetype': 'application/pdf',\n",
       "   'last_modified': '2024-04-10T06:57:48',\n",
       "   'orig_elements': 'eJy9kUFr5CAUx7+KeJ6IGifq3LqHnrZQ6MCyDEMw+pIREhMS03Yo+93XuG0Py5wKu0d/vr++936nNww9DBBi7R0+IAxaUdowW1jZtoVonCq0YLywrTBcM1XaSuEdwgNE40w0KfOG7TjOzgcTYcnn3lzHNdYX8N0lJsI5pSnzjl+8i5dEmcx0Gn2IW+50UpUkaocYE5yI8w59Ak5LUm6AiT0n8ib5E0oIL9clwrBN8+hfoX+ajAX8K104iGCjH0Nte7Ms9TSPTSqjpNJK8VTQ+h7idYKcfXzAuenQrabLk50whA6fM11iPYzOtx7y3jjloqCiYPRIq8NeHkRe05SSdViHBuZt4q2JCK/bTvC979YZECfoOE7o3j8D+glmXtCLjxf03czpz4h++N61PtXd2RnSY+jbOgdw6MkHC4jpim7ffPR89LHPo/6ttWmVFGXLCq0kK4S0qlA2dcy42VshmKu4+Gda2V4RvjkrJamysw9QlURvQDJN2E2QI1+TumdK6/8s9WiaPmkh6C6E1fSf+hZkgssOl3eDN7SdfwNIVgm6',\n",
       "   'page_number': 1,\n",
       "   'source': './IF10244.pdf'},\n",
       "  {'category': 'Table',\n",
       "   'file_directory': '.',\n",
       "   'filename': 'IF10244.pdf',\n",
       "   'filetype': 'application/pdf',\n",
       "   'last_modified': '2024-04-10T06:57:48',\n",
       "   'orig_elements': 'eJylVW1r2zAQ/iuHGaODxpEUv3ZZYGMUBltbaL+lxfhFSQyOHWyFNZT+993ZiX1tk3WwD7J1J91z76f5k6ULvdalifLMugArSyfSS2M1mgS+M3IWQTZKXBWOFkGaBIkTi1Qk1jlYa23iLDYxyjxZaVXVWV7GRjctXcS7amuilc6XK4McpYRAmT37d56ZFXKl33I3VV4akpvPpefa3jlI5Ut78nAOPSP0fNshRqCE7R5jdCLIsZpdY/SafLnJH3Vxu4lTbT3jQaaNTk1elVFaxE0TbeoqwWvCDmUYohZrkRfa7Da6lb35ZbUml8ttvGz9mlu6XFoPLbcx0brK8kWu26gpoZyRcEZS3AnvwvUvnICkNygZldt1omvyFzlGP5oobqKVWRckODVxUujZ1Kx0nOGvpu1sOqYPLiVkwImQEUpwQnJCdcSY4MYH6KTKdnsNGaRV0Wzi8su95d1bs6vWRKgWcJnXuoEzs6q2TVxmzSeUz/ZInejsUme6jovuAJdUtjsQGM2BcGyHE2IgpO0fQb7tL2Da2X7S772DXLtXw53wLdz36x/9uc+Uczyf6fFf6AzeAl5jKOv+irAl2w+mfCzM51NnPZ/DXlXl4lVMHe7/JGSE43DCZW598A+KOPhdZRiuGzDDXMES54Y8QpzweoLhviqgrymVzbdtXeoMztZ5UWCb/UvxOMxNZprPzWTxc95awqtGscwKHqdg2DJk+U7RcLhTe8kipY5l92XRvC6O/6LfKyLuqn080D+XjO29Vz6BzQM5dKIUJ3Lnv8Ac72fQuBt67VCmgdhNUBkATTigyQZ/mUiwryGgwQM0cIAGDVzeAnYNrgnglABMJGDXtzSaQbCSLgo8VQeOAppEeCfEFUCbK3wQJC4F08OG/kN8gZoTqCmBmpFI1ILNB22wgHoMqLeA2qj7UA/BiSbp/SEwzA3ahvIIR7aiU1htaAHqQQMxpSDRWHKO+IeFVYh/uXegNfzYhzvRInUKCRGzv7c/aPX4FNnOFowVPWaHl/GOkmc9P/wBOMZZ2A==',\n",
       "   'page_number': 1,\n",
       "   'source': './IF10244.pdf',\n",
       "   'text_as_html': '<table><tr><td/><td>2018</td><td>2019</td><td>2020</td><td>2021</td><td>2022</td></tr><tr><td>Number of Fires (thousands)</td></tr><tr><td>Federal</td><td>12.5</td><td>10.9</td><td>14.4</td><td>14.0</td><td>11.7</td></tr><tr><td>FS</td><td>5.6</td><td>5.3</td><td>6.7</td><td>6.2</td><td>59</td></tr><tr><td>DOI</td><td>7.0</td><td>5.3</td><td>7.6</td><td>7.6</td><td>5.8</td></tr><tr><td>Other</td><td>0.1</td><td>0.2</td><td>&lt;0.1</td><td>0.2</td><td>0.1</td></tr><tr><td>Nonfederal</td><td>45.6</td><td>39.6</td><td>44.6</td><td>45.0</td><td>$7.2</td></tr><tr><td>Total</td><td>58.1</td><td>50.5</td><td>59.0</td><td>59.0</td><td>69.0</td></tr><tr><td>Acres Burned (millions)</td></tr><tr><td>Federal</td><td>46</td><td>3.1</td><td>7.1</td><td>5.2</td><td>40</td></tr><tr><td>FS</td><td>2.3</td><td>0.6</td><td>48</td><td>4.1</td><td>19</td></tr><tr><td>DOI</td><td>2.3</td><td>2.3</td><td>2.3</td><td>1.0</td><td>2.1</td></tr><tr><td>Other</td><td>&lt;0.1</td><td>&lt;0.1</td><td>&lt;0.1</td><td>&lt;0.1</td><td>&lt;0.1</td></tr><tr><td>Nonfederal</td><td>4.1</td><td>1.6</td><td>3.1</td><td>Lg</td><td>3.6</td></tr><tr><td>Total</td><td>8.8</td><td>4.7</td><td>10.1</td><td>7.1</td><td>7.6</td></tr></table>'},\n",
       "  {'category': 'CompositeElement',\n",
       "   'file_directory': '.',\n",
       "   'filename': 'IF10244.pdf',\n",
       "   'filetype': 'application/pdf',\n",
       "   'last_modified': '2024-04-10T06:57:48',\n",
       "   'orig_elements': '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',\n",
       "   'page_number': 1,\n",
       "   'source': './IF10244.pdf'},\n",
       "  {'category': 'CompositeElement',\n",
       "   'file_directory': '.',\n",
       "   'filename': 'IF10244.pdf',\n",
       "   'filetype': 'application/pdf',\n",
       "   'last_modified': '2024-04-10T06:57:48',\n",
       "   'orig_elements': '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',\n",
       "   'page_number': 2,\n",
       "   'source': './IF10244.pdf'},\n",
       "  {'category': 'Table',\n",
       "   'file_directory': '.',\n",
       "   'filename': 'IF10244.pdf',\n",
       "   'filetype': 'application/pdf',\n",
       "   'last_modified': '2024-04-10T06:57:48',\n",
       "   'orig_elements': 'eJxtUU1v4yAQ/SsIKTc7AWxjE0U57H2lattbFFkYpjGSv2SwtlHV/76AkzRS92A87zFv5s1w+sTQQQ+Dq43Ge4SFKnJOGE0rBSLNVcnTCrRKecEIh0zJhjOcINyDk1o66TWfWI3jrM0gHdiIO3kdF1e3YC6t8wxjhHjNjf5rtGs9S8vITqMZXNCdTlVJtlmCBBVbdk7QHVNSlVsSCFpkxTb/H7NqPIPt1Trowywv5gO610kqwF/+QoMD5cw41KqT1tbTPDY+jWwrkXHfBr+bDtx1gqh9+Y2j5eGyyEuc64RhuOBzZK2r+1GbdwNxa4ywPCV5Sskb4fui3OdVUE9eWQ9L38ActuAZBx+ulrZuXd8F4cHJpoPjwbUgtf/NITweduHwHyNUPAFGngF9BmwFu1Bhd6/WjPp6K6qPr25elFtmsOjXMg+gfZ6ON4Jnj5iWiSD5AxaJKNkDsaSk5Ypio1vlDfoD1mgYFNhHbs4331Xy75iTzc+cm+3V727dSXyzsK91wVSgsIBw0HAw9GMg5AdB6wAoGkfRMHr2h3xP5P0g7yPE4Znub/4W+uKv8z+U+uTL',\n",
       "   'page_number': 2,\n",
       "   'source': './IF10244.pdf',\n",
       "   'text_as_html': '<table><tr><td/><td>2019</td><td>2020</td><td>2021</td><td>2022</td></tr><tr><td>Structures Burned</td><td>963</td><td>17,904</td><td>5,972</td><td>2,717</td></tr><tr><td>% Residences</td><td>46%</td><td>54%</td><td>60%</td><td>46%</td></tr></table>'},\n",
       "  {'category': 'CompositeElement',\n",
       "   'file_directory': '.',\n",
       "   'filename': 'IF10244.pdf',\n",
       "   'filetype': 'application/pdf',\n",
       "   'last_modified': '2024-04-10T06:57:48',\n",
       "   'orig_elements': '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',\n",
       "   'page_number': 2,\n",
       "   'source': './IF10244.pdf'}],\n",
       " 'included': [<IncludeEnum.embeddings: 'embeddings'>,\n",
       "  <IncludeEnum.documents: 'documents'>,\n",
       "  <IncludeEnum.metadatas: 'metadatas'>]}"
      ]
     },
     "execution_count": 18,
     "metadata": {},
     "output_type": "execute_result"
    }
   ],
   "source": [
    "vectorstore.get(include=[\"metadatas\", \"documents\", \"embeddings\"])"
   ]
  },
  {
   "cell_type": "code",
   "execution_count": 19,
   "id": "29c65eb5-75ad-4310-8d90-32a14de6b136",
   "metadata": {},
   "outputs": [
    {
     "data": {
      "text/plain": [
       "7"
      ]
     },
     "execution_count": 19,
     "metadata": {},
     "output_type": "execute_result"
    }
   ],
   "source": [
    "vectorstore._collection.count()"
   ]
  },
  {
   "cell_type": "code",
   "execution_count": 20,
   "id": "4c3c44ab-ec60-406e-bf37-7f81beee4a2f",
   "metadata": {},
   "outputs": [],
   "source": [
    "query = \"Which year has the highest acres burned?\"\n",
    "docs = retriever.invoke(query, limit=5)"
   ]
  },
  {
   "cell_type": "code",
   "execution_count": 21,
   "id": "d8b2728e-68f1-40b3-8e60-42e4ecbed8c9",
   "metadata": {},
   "outputs": [
    {
     "data": {
      "text/plain": [
       "['= Informing the legislative debate since 1914 Congressional Research Service\\n\\nUpdated June 1, 2023\\n\\nWildfire Statistics\\n\\nWildfires are unplanned fires, including lightning-caused fires, unauthorized human-caused fires, and escaped fires from prescribed burn projects. States are responsible for responding to wildfires that begin on nonfederal (state, local, and private) lands, except for lands protected by federal agencies under cooperative agreements. The federal government is responsible for responding to wildfires that begin on federal lands. The Forest Service (FS)—within the U.S. Department of Agriculture—carries out wildfire management and response across the 193 million acres of the National Forest System (NFS). The Department of the Interior (DOI) manages wildfire response for more than 400 million acres of national parks, wildlife refuges and preserves, other public lands, and Indian reservations.\\n\\nFigure 1. Annual Wildfires and Acres Burned, 1993-2022\\n\\nFires, thousands Acres burned, millions 120 12 100 Fires 10 80 oN FD\\n\\nWildfire statistics help illustrate past U.S. wildfire activity. Nationwide data compiled by the National Interagency Coordination Center (NICC) indicate that the number of annual wildfires is variable but has decreased slightly over the last 30 years. The number of acres affected annually, while also variable, generally has increased (see Figure 1). Since 2000, an annual average of 70,025 wildfires have burned an annual average of 7.0 million acres. The acreage figure is more than double the average annual acreage burned in the 1990s (3.3 million acres), although a greater number of fires occurred annually in the 1990s on average (78,600).\\n\\nSource: NICC Wildland Fire Summary and Statistics annual reports. Note: Data reflect wildland fires and acres burned nationwide, including wildland fires on federal and nonfederal lands.\\n\\nFrom 2013 to 2022, there were an average of 61,410 wildfires annually and an average of 7.2 million acres impacted annually. In 2022, 68,988 wildfires burned 7.6 million acres. Over 40% of those acres were in Alaska (3.1 million acres).\\n\\nAs of June 1, 2023, around 18,300 wildfires have impacted over 511,000 acres this year.',\n",
       " 'Figure 2. Top Five Years with Largest Wildfire Acreage Burned Since 1960\\n\\nTable 1. Annual Wildfires and Acres Burned',\n",
       " '2018 2019 2020 Number of Fires (thousands) Federal 12.5 10.9 14.4 FS 5.6 5.3 6.7 DOI 7.0 5.3 7.6 2021 14.0 6.2 7.6 2022 11.7 5.9 5.8 Other 0.1 0.2 <0.1 0.2 0.1 Nonfederal 45.6 39.6 44.6 45.0 57.2 Total 58.1 50.5 59.0 59.0 69.0 Acres Burned (millions) Federal 4.6 3.1 7.1 5.2 4.0 FS 2.3 0.6 4.8 4.1 1.9 DOI 2.3 2.3 2.3 1.0 2.1 Other <0.1 <0.1 <0.1 <0.1 <0.1 Nonfederal 4.1 1.6 3.1 1.9 3.6 Total 8.8 4.7 10.1 7.1 7.6',\n",
       " 'Source: National Interagency Coordination Center (NICC)\\n\\nYear Number of Fires Acres burned (millions) 2015 2020 2017 2006 2007\\n\\nSource: NICC Wildland Fire Summary and Statistics annual reports. Note: Number of fires in thousands.\\n\\nThe number of fires and acreage burned are indicators of the annual level of wildfire activity. These numbers may not be indicative of fire’s impact on human development or communities, since many fires occur in large, relatively undeveloped areas. Acreage burned also does not indicate the severity of a wildfire, the degree of impact upon forests or soils, or other ecological effects.\\n\\nMost wildfires are human-caused (89% of the average number of wildfires from 2018 to 2022). Wildfires caused by lightning tend to be slightly larger and to burn more acreage (53% of the average acreage burned from 2018 to 2022) than human-caused fires.\\n\\nWildland Fire Summary and Statistics annual reports.\\n\\nNotes: FS = Forest Service; DOI = Department of the Interior. Column totals may not sum precisely due to rounding.\\n\\nhttps://crsreports.congress.gov\\n\\nWildfire Statistics\\n\\nIn 2022, 52% of the nationwide acreage burned by wildfires was on federal lands (4.0 million acres; see Table 1), lower than the 10-year average (64%) of impacted federal land acreage. The other 48% of the acreage burned in 2022 was on state, local, or privately owned lands, though the fires on these lands accounted for 83% of total fires. Of the federal acreage burned nationwide in 2022, 52% (2.1 million acres) burned on DOI land and 47% (1.9 million acres) burned on FS land (see Figure 3). The 2022 figures are driven largely by Alaska, where just over half of the acreage impacted occurred on nonfederal lands (1.6 million acres) and just under half was on DOI lands (1.5 million acres).\\n\\nResources\\n\\nAnother metric useful for assessing wildfire activity is the extent to which nationwide resources—including personnel and equipment—are engaged in wildfire suppression. A proxy for resource commitments is the nationwide Preparedness Level (PL) scale, which ranges from 1 (lowest) to 5 (highest). The higher PLs indicate significant commitment of shared resources. In 2022, the nationwide level was 4 for 10 days and never reached the highest level (5). In contrast, the highest level was reached for 68 days in 2021, the longest since at least 2000.',\n",
       " 'Wildfire Damages\\n\\nFigure 3. Percentage Acreage Burned by Ownership\\n\\n100% __ Non- federal 75% Other [ federal 50% DOI 25% Forest 0% Service 2018 2019 2020 2021 2022\\n\\nWildfires may affect certain ecological resources beneficially, but wildfires also may have devastating impacts, especially for communities affected by wildfire activity. Statistics showing the level of destruction a wildfire caused can provide useful metrics to evaluate the fire’s effect. Such statistics may include acres burned or impacted, lives lost (firefighters and civilians), and structures (residential, commercial, and other) destroyed. For example, in 2022, over 2,700 structures were burned in wildfires; the majority of the damage occurred in California (see Table 2).\\n\\nTable 2. Loss Statistics\\n\\nSource: NICC Wildland Fire Summary and Statistics annual reports. Note: DOI = Department of the Interior.\\n\\nMore wildfires occur in the East (including the central states), but the wildfires in the West (i.e., Alaska, Arizona, California, Colorado, Idaho, Montana, New Mexico, Nevada, Oregon, Utah, Washington, and Wyoming) are larger and burn more acreage. In 2022, just over 20,000 wildfires burned approximately 5.8 million acres in the West, compared with the over 48,000 fires that burned just over 1.8 million acres in the East. In the East (where there is less federal acreage), most of the fires occur on nonfederal lands; in the West, most of the fires occur on federal lands (see Figure 4). In 2022, 85% (1.5 million acres) of the acreage burned in the East was on nonfederal land, whereas 64% (3.7 million acres) of the acreage burned in the West was on federal land.\\n\\nFigure 4. Acreage Burned by Region and Ownership\\n\\nAcres burned, millions 12 East Nonfederal 10 East Federal West Nonfederal West Federal oN FD Ww 2018 2019 2020 2021 2022',\n",
       " '2019 2020 2021 2022 Structures Burned 963 17,904 5,972 2,717 % Residences 46% 54% 60% 46%',\n",
       " 'Source: NICC Wildland Fire Summary and Statistics annual reports.\\n\\nConflagrations\\n\\nOf the 1.6 million wildfires that have occurred since 2000, 254 exceeded 100,000 acres burned and 16 exceeded 500,000 acres burned. A small fraction of wildfires become catastrophic, and a small percentage of fires accounts for the vast majority of acres burned. For example, about 1% of wildfires become conflagrations—raging, destructive fires—but predicting which fires will “blow up” into conflagrations is challenging and depends on a multitude of factors, such as weather and geography. There have been 1,041 large or significant fires annually on average from 2018 through 2022. In 2022, 2% of wildfires were classified as large or significant (1,289); 45 exceeded 40,000 acres in size, and 17 exceeded 100,000 acres. For context, there were fewer large or significant wildfires in 2021 (943) but more in 2017 (1,409).\\n\\nIssues for Congress\\n\\nIssues Congress may consider include the strategies and resources used for wildfire prevention, mitigation, and management, as well as wildfires’ impact on both the quality of life and the economies of communities affected by wildfire activity. Other issues relate to post-wildfire recovery and site restoration. Congress also considers the total federal cost of wildfire management, including the cost of suppression operations; these costs vary annually and are difficult to predict.\\n\\nSource: NICC Wildland Fire Summary and Statistics annual reports. Notes: West: AK, AZ, CA, CO, ID, HI, MT, NM, NV, OR, UT, WA, and WY. East: All other states and Puerto Rico.\\n\\nKatie Hoover, Specialist in Natural Resources Policy Laura A. Hanson, Senior Research Librarian\\n\\nIF10244\\n\\nhttps://crsreports.congress.gov\\n\\nWildfire Statistics\\n\\nDisclaimer\\n\\nThis document was prepared by the Congressional Research Service (CRS). CRS serves as nonpartisan shared staff to congressional committees and Members of Congress. It operates solely at the behest of and under the direction of Congress. Information in a CRS Report should not be relied upon for purposes other than public understanding of information that has been provided by CRS to Members of Congress in connection with CRS’s institutional role. CRS Reports, as a work of the United States Government, are not subject to copyright protection in the United States. Any CRS Report may be reproduced and distributed in its entirety without permission from CRS. However, as a CRS Report may include copyrighted images or material from a third party, you may need to obtain the permission of the copyright holder if you wish to copy or otherwise use copyrighted material.\\n\\nhttps://crsreports.congress.gov | IF10244 · VERSION 68 · UPDATED']"
      ]
     },
     "execution_count": 21,
     "metadata": {},
     "output_type": "execute_result"
    }
   ],
   "source": [
    "[doc.page_content for doc in data]"
   ]
  },
  {
   "cell_type": "code",
   "execution_count": 22,
   "id": "27120a3a-5903-482d-b084-39998042c2d5",
   "metadata": {},
   "outputs": [],
   "source": [
    "###################################\n",
    "########### Synthesis #############\n",
    "###################################"
   ]
  },
  {
   "cell_type": "code",
   "execution_count": 23,
   "id": "b8a685e2-fe19-4660-9960-f5bfa8b95a25",
   "metadata": {},
   "outputs": [],
   "source": [
    "from langchain_openai import ChatOpenAI\n",
    "\n",
    "CHAT_MODEL = ChatOpenAI(model_name='gpt-4o-mini', api_key=OPENAI_API_KEY, temperature=0)"
   ]
  },
  {
   "cell_type": "code",
   "execution_count": 25,
   "id": "8c01f6a6-0950-44f7-a475-44fdae7cf29c",
   "metadata": {},
   "outputs": [],
   "source": [
    "from langchain_core.prompts import ChatPromptTemplate\n",
    "from langchain_core.runnables import RunnablePassthrough\n",
    "from langchain_core.output_parsers import StrOutputParser\n",
    "\n",
    "\n",
    "RAG_TEMPLATE = \"\"\"\n",
    "You are an assistant for question-answering tasks. Use the following pieces of retrieved context \n",
    "to answer the question. If you don't know the answer, just say that you don't know.\n",
    "\n",
    "<context>\n",
    "{context}\n",
    "</context>\n",
    "\n",
    "Answer the following question:\n",
    "\n",
    "{question}\"\"\"\n",
    "\n",
    "rag_prompt = ChatPromptTemplate.from_template(RAG_TEMPLATE)\n",
    "\n",
    "def format_docs(docs):\n",
    "    return \"\\n\\n\".join(doc.page_content for doc in docs)\n",
    "\n",
    "\n",
    "rag_chain = (\n",
    "    {\"context\": retriever | format_docs, \"question\": RunnablePassthrough()}\n",
    "    | rag_prompt\n",
    "    | CHAT_MODEL\n",
    "    | StrOutputParser()\n",
    ")"
   ]
  },
  {
   "cell_type": "code",
   "execution_count": 26,
   "id": "2e8f1da3-a37b-4209-aee1-03664b886336",
   "metadata": {},
   "outputs": [],
   "source": [
    "query = \"Which year has the highest acres burned?\"\n",
    "response = rag_chain.invoke(query)"
   ]
  },
  {
   "cell_type": "code",
   "execution_count": 27,
   "id": "0142a96d-4efa-4621-bb03-33f58c91b4af",
   "metadata": {},
   "outputs": [
    {
     "data": {
      "text/plain": [
       "'The year with the highest acres burned is 2015.'"
      ]
     },
     "execution_count": 27,
     "metadata": {},
     "output_type": "execute_result"
    }
   ],
   "source": [
    "response"
   ]
  },
  {
   "cell_type": "code",
   "execution_count": 28,
   "id": "160f6678-1526-4a15-b4ec-6bffb2600fe3",
   "metadata": {},
   "outputs": [],
   "source": [
    "# Incorrect response. Correct answer - 4.1 million acres\n",
    "\n",
    "query = query = \"Tell me about the number of acres burned by wildfires for the forest service in 2021\"\n",
    "response = rag_chain.invoke(query)"
   ]
  },
  {
   "cell_type": "code",
   "execution_count": 29,
   "id": "13e5613c-a2eb-4b50-9272-5b0e01a22ddf",
   "metadata": {},
   "outputs": [
    {
     "data": {
      "text/plain": [
       "'In 2021, the Forest Service (FS) reported that approximately 4.1 million acres were burned by wildfires.'"
      ]
     },
     "execution_count": 29,
     "metadata": {},
     "output_type": "execute_result"
    }
   ],
   "source": [
    "response"
   ]
  },
  {
   "cell_type": "code",
   "execution_count": null,
   "id": "7e7e3cc9-2903-40ae-b43d-4324c84c4dde",
   "metadata": {},
   "outputs": [],
   "source": []
  }
 ],
 "metadata": {
  "kernelspec": {
   "display_name": "Python 3 (ipykernel)",
   "language": "python",
   "name": "python3"
  },
  "language_info": {
   "codemirror_mode": {
    "name": "ipython",
    "version": 3
   },
   "file_extension": ".py",
   "mimetype": "text/x-python",
   "name": "python",
   "nbconvert_exporter": "python",
   "pygments_lexer": "ipython3",
   "version": "3.12.7"
  }
 },
 "nbformat": 4,
 "nbformat_minor": 5
}
